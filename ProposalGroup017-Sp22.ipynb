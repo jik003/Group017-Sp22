{
 "cells": [
  {
   "cell_type": "markdown",
   "metadata": {},
   "source": [
    "# COGS 118A- Project Proposal"
   ]
  },
  {
   "cell_type": "markdown",
   "metadata": {},
   "source": [
    "# Names\n",
    "\n",
    "Hopefully your team is at least this good. Obviously you should replace these with your names.\n",
    "\n",
    "- Richard Li\n",
    "- Brian Chu\n",
    "- Taekyu Lee\n",
    "- Jisu Kim\n"
   ]
  },
  {
   "cell_type": "markdown",
   "metadata": {},
   "source": [
    "# Abstract \n",
    "This section should be short and clearly stated. It should be a single paragraph <200 words.  It should summarize: \n",
    "- what your goal/problem is\n",
    "- what the data used represents and how they are measured\n",
    "- what you will be doing with the data\n",
    "- how performance/success will be measured\n",
    "\n",
    "As a current global shortage of semiconductor chips used in the majority of cars, SUVs and trucks, automakers in the world are facing the limit of the production for their new vehicle. Our goal for this project is to predict the used car prices and bring the benefits to car shoppers to encourage or avoid their purchase decision on the specific cars or brands. Our team will use the datasets from the used car pricing site ‘TrueCar’. The dataset will contain various key  factors regarding used car’s information"
   ]
  },
  {
   "cell_type": "markdown",
   "metadata": {},
   "source": [
    "# Background\n",
    "\n",
    "Fill in the background and discuss the kind of prior work that has gone on in this research area here. **Use inline citation** to specify which references support which statements.  You can do that through HTML footnotes (demonstrated here). I used to reccommend Markdown footnotes (google is your friend) because they are simpler but recently I have had some problems with them working for me whereas HTML ones always work so far. So use the method that works for you, but do use inline citations.\n",
    "\n",
    "Here is an example of inline citation. After government genocide in the 20th century, real birds were replaced with surveillance drones designed to look just like birds<a name=\"lorenz\"></a>[<sup>[1]</sup>](#lorenznote). Use a minimum of 2 or 3 citations, but we prefer more <a name=\"admonish\"></a>[<sup>[2]</sup>](#admonishnote). You need enough citations to fully explain and back up important facts. \n",
    "\n",
    "Remeber you are trying to explain why someone would want to answer your question or why your hypothesis is in the form that you've stated. \n",
    "\n",
    "Since we have been through the pandemic, we have been faced with used car price inflation. Our topic is directly related to our life and has been gaining much traction nowadays. Now, we are interested in what brings the variance in the car prices and how the price will be changed."
   ]
  },
  {
   "cell_type": "markdown",
   "metadata": {},
   "source": [
    "# Problem Statement\n",
    "\n",
    "Clearly describe the problem that you are solving. Avoid ambiguous words. The problem described should be well defined and should have at least one ML-relevant potential solution. Additionally, describe the problem thoroughly such that it is clear that the problem is quantifiable (the problem can be expressed in mathematical or logical terms), measurable (the problem can be measured by some metric and clearly observed), and replicable (the problem can be reproduced and occurs more than once).\n",
    "We are taking in the characteristics and metrics of a car and using a supervised machine-learning algorithm in Python to guess a price for a used car in the current market"
   ]
  },
  {
   "cell_type": "markdown",
   "metadata": {},
   "source": [
    "# Data\n",
    "\n",
    "You should have a strong idea of what dataset(s) will be used to accomplish this project. \n",
    "\n",
    "If you know what (some) of the data you will use are please give the following infomration for each dataset\n",
    "- link/reference to obtain it\n",
    "- description of the size of the dataset (# of variables, # of observations)\n",
    "- what an observation consists of\n",
    "- what some critical variables are, how they are represented\n",
    "- any special handling, transformations, cleaning, etc will be needed\n",
    "\n",
    "If you don't yet know what your dataset(s) will be, you should be able to describe what you desire in terms of the above bullets\n",
    "\n",
    "Link for Dataset: https://www.kaggle.com/datasets/harikrishnareddyb/used-car-price-predictions ",
    "\n",
    "number of variables : 8 \n",
    "number of observations : 852075 \n",
    "\n",
    "The observation values will consist of each used car’s VIN(vehicle identification number).Since our team aims to predict the used car market price, we believe that the price will be one of the most important critical variables. Other than this, year, mileage, and automakers also heavily impact the level of the used cars’ price"
   ]
  },
  {
   "cell_type": "markdown",
   "metadata": {},
   "source": [
    "# Proposed Solution\n",
    "\n",
    "In this section, clearly describe a solution to the problem. The solution should be applicable to the project domain and appropriate for the dataset(s) or input(s) given. Provide enough detail (e.g., algorithmic description and/or theoretical properties) to convince us that your solution is applicable. Make sure to describe how the solution will be tested.  \n",
    "\n",
    "If you know details already, describe how (e.g., library used, function calls) you plan to implement the solution in a way that is reproducible.\n",
    "\n",
    "If it is appropriate to the problem statement, describe a benchmark model<a name=\"sota\"></a>[<sup>[3]</sup>](#sotanote) against which your solution will be compared. \n",
    "\n",
    "We will use cross-validation and a supervised learning algorithm likely with Python using numpy, sklearn, and will do Representation Learning, where we take in parameters to generate a price for each car using a learned model with hyperparameters. We will then take about 30% of the data not used from cross-validation, as an additional testing set, to measure our training and testing error along with generalization values"
   ]
  },
  {
   "cell_type": "markdown",
   "metadata": {},
   "source": [
    "# Evaluation Metrics\n",
    "\n",
    "Propose at least one evaluation metric that can be used to quantify the performance of both the benchmark model and the solution model. The evaluation metric(s) you propose should be appropriate given the context of the data, the problem statement, and the intended solution. Describe how the evaluation metric(s) are derived and provide an example of their mathematical representations (if applicable). Complex evaluation metrics should be clearly defined and quantifiable (can be expressed in mathematical or logical terms).\n",
    "\n",
    "- L1 norm, absolute distance between predicted price and actual price of car being sold.\n",
    "\n",
    "- L2 norm, Euclidean distance.\n",
    "\n",
    "- Since the car market is very sensitive to outliers, we could use an alpha parameter to moderate between L1 and L2 norms as the error function we are going to minimize.",
    "\n",
    "- An outlier is much worse in price prediction, so we could also judge by finding the proportion of predicted car sale prices within 5% of the actual value"
   ]
  },
  {
   "cell_type": "markdown",
   "metadata": {},
   "source": [
    "# Ethics & Privacy"
   ]
  },
  {
   "cell_type": "markdown",
   "metadata": {},
   "source": [
    "If your project has obvious potential concerns with ethics or data privacy discuss that here.  Almost every ML project put into production can have ethical implications if you use your imagination. Use your imagination.\n",
    "\n",
    "Even if you can't come up with an obvious ethical concern that should be addressed, you should know that a large number of ML projects that go into producation have unintended consequences and ethical problems once in production. How will your team address these issues?\n",
    "\n",
    "Given the nature of the project, we believe that we will not be in possession of any personally identifiable information that holds a risk to the persons in question. However, we understand that in processing vehicular sales data, the VIN or identifiable information pertaining to the car is revealed in sales ads, and so on. This provides us with records of car maintenance and thereby the locations of previous owners, which may hold a risk. However, this is not unique to the dataset, but rather openly provided information for the sake of transparency - products such as CARFAX have been using this information for buyer transparency without any apparent ethical violations. In that sense, we are aware but not concerned about privacy risks\n",
    "\n",
    "We spent significant time trying to imagine the ethical implications of such a project. It is entirely true that every machine learning project is liable to have intrinsic interactions with ethics, but in this case we think that these pertain to how such a project can be used, rather than in the making of the project. For example, the outputs of our model could be used to monitor car prices, and manipulate sales as opposed to an organic market. However, such metrics of what cars are “worth” and “market value” have already been established, and we believe the likely usage of this model would be to track the perpetuation of car values in a market heavily impacted by the pandemic and its ensuing shortages in components\n",
    "Consider a tool to help you address the potential issues such as https://deon.drivendata.org"
   ]
  },
  {
   "cell_type": "markdown",
   "metadata": {},
   "source": [
    "# Team Expectations "
   ]
  },
  {
   "cell_type": "markdown",
   "metadata": {},
   "source": [
    "Put things here that cement how you will interact/communicate as a team, how you will handle conflict and difficulty, how you will handle making decisions and setting goals/schedule, how much work you expect from each other, how you will handle deadlines, etc...\n",
    "* *Team Expectation 1* We all will participate in group meetings and discussions based on the schedule(our timeline proposal)\n",
    "* *Team Expectation 2* Each team member will contribute to the project; each student will have a role and responsibilities\n",
    "* *Team Expectation 3* If a team member is unable to complete their part by the deadline, let the other members know and so they can help to complete the part\n",
    "* *Team Expectation 4* Communicate any issues or concerns or time conflicts"
   ]
  },
  {
   "cell_type": "markdown",
   "metadata": {},
   "source": [
    "# Project Timeline Proposal"
   ]
  },
  {
   "cell_type": "markdown",
   "metadata": {},
   "source": [
    "Replace this with something meaningful that is appropriate for your needs. It doesn't have to be something that fits this format.  It doesn't have to be set in stone... \"no battle plan survives contact with the enemy\". But you need a battle plan nonetheless, and you need to keep it updated so you understand what you are trying to accomplish, who's responsible for what, and what the expected due dates are for each item.\n",
    "\n",
    "| Meeting Date  | Meeting Time| Completed Before Meeting  | Discuss at Meeting |\n",
    "|---|---|---|---|\n",
    "| Done  |  Done |  Brainstorm topics/questions (all)  | Determine best form of communication; Discuss and decide on final project topic; discuss hypothesis; begin background research | \n",
    "| Done  |  Done |  Do background research on topic (all) | Discuss ideal dataset(s) and ethics; draft project proposal | \n",
    "| 4/24  | Before 11:59 PM  | Edit, finalize, and submit proposal; Search for datasets (all)  | Discuss Wrangling and possible analytical approaches; Assign group members to lead each specific part   |\n",
    "| 4/26,5/3 | 4 PM  | Import & Wrangle Data ,do some EDA (all) | Review/Edit wrangling/EDA; Discuss Analysis Plan   |\n",
    "| 5/10,5/17,5/19  | 4 PM  | Finalize wrangling/EDA; Begin programming for project (all) | Discuss/edit project code; Complete project |\n",
    "| 5/24,5/31,6/2  | 4 PM  | Complete analysis; Draft results/conclusion/discussion (all)| Discuss/edit full project |\n",
    "| 6/8  | Before 11:59 PM  | NA | Turn in Final Project  |"
   ]
  },
  {
   "cell_type": "markdown",
   "metadata": {},
   "source": [
    "# Footnotes\n",
    "<a name=\"Nolannote\"></a>1.[^](#Nolan): Nolan, Aaron. “Average Used Car Price Spikes during Pandemic.” NewsNation, NewsNation, 5 Jan. 2022, https://www.newsnationnow.com/business/your-money/average-used-car-price-spike/#:~:text=There%20are%20empty%20parking%20spaces,just%20aren't%20being%20built <br>\n",
    "<a name=\"Michaelnote\"></a>2.[^](#Michael): Michael Wayland, Thomas Franck. “Soaring Used Car Prices Are Pushing Inflation Higher, and There's Not Much the U.S. Can Do about It.” CNBC, CNBC, 14 Jan. 2022, https://www.cnbc.com/2022/01/13/why-used-car-prices-are-pushing-inflation-higher.html <br>\n",
    "<a name=\"sotanote\"></a>3.[^](#sota): Used Car Price Analysis Capstone project from General Assembly Data Science Immersive course, https://clrife.github.io\n"
   ]
  },
  {
   "cell_type": "code",
   "execution_count": null,
   "metadata": {},
   "outputs": [],
   "source": []
  }
 ],
 "metadata": {
  "kernelspec": {
   "display_name": "Python 3",
   "language": "python",
   "name": "python3"
  },
  "language_info": {
   "codemirror_mode": {
    "name": "ipython",
    "version": 3
   },
   "file_extension": ".py",
   "mimetype": "text/x-python",
   "name": "python",
   "nbconvert_exporter": "python",
   "pygments_lexer": "ipython3",
   "version": "3.7.1"
  }
 },
 "nbformat": 4,
 "nbformat_minor": 2
}
